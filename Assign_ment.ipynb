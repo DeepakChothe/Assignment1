{
  "nbformat": 4,
  "nbformat_minor": 0,
  "metadata": {
    "colab": {
      "name": "Assign ment",
      "provenance": [],
      "collapsed_sections": [],
      "authorship_tag": "ABX9TyNmKRgcweJatB1wHcS4X64r",
      "include_colab_link": true
    },
    "kernelspec": {
      "name": "python3",
      "display_name": "Python 3"
    },
    "language_info": {
      "name": "python"
    }
  },
  "cells": [
    {
      "cell_type": "markdown",
      "metadata": {
        "id": "view-in-github",
        "colab_type": "text"
      },
      "source": [
        "<a href=\"https://colab.research.google.com/github/DeepakChothe/Assignment1/blob/main/Assign_ment.ipynb\" target=\"_parent\"><img src=\"https://colab.research.google.com/assets/colab-badge.svg\" alt=\"Open In Colab\"/></a>"
      ]
    },
    {
      "cell_type": "code",
      "metadata": {
        "id": "A-el_mCUsQBM"
      },
      "source": [
        "import pandas as pd\n",
        "import seaborn as sns"
      ],
      "execution_count": 1,
      "outputs": []
    },
    {
      "cell_type": "code",
      "metadata": {
        "id": "dNnLhb3GsQ-A"
      },
      "source": [
        "data=pd.read_excel(r'/content/New data machine learning.xlsx')"
      ],
      "execution_count": 2,
      "outputs": []
    },
    {
      "cell_type": "code",
      "metadata": {
        "colab": {
          "base_uri": "https://localhost:8080/",
          "height": 199
        },
        "id": "dTEmpQvgsRKr",
        "outputId": "c9a74d66-4f9f-44d1-f892-7ae9606da115"
      },
      "source": [
        "data.describe()"
      ],
      "execution_count": 3,
      "outputs": [
        {
          "output_type": "execute_result",
          "data": {
            "text/html": [
              "<div>\n",
              "<style scoped>\n",
              "    .dataframe tbody tr th:only-of-type {\n",
              "        vertical-align: middle;\n",
              "    }\n",
              "\n",
              "    .dataframe tbody tr th {\n",
              "        vertical-align: top;\n",
              "    }\n",
              "\n",
              "    .dataframe thead th {\n",
              "        text-align: right;\n",
              "    }\n",
              "</style>\n",
              "<table border=\"1\" class=\"dataframe\">\n",
              "  <thead>\n",
              "    <tr style=\"text-align: right;\">\n",
              "      <th></th>\n",
              "      <th>City</th>\n",
              "      <th>Product Category</th>\n",
              "      <th>Have you\\n understood \\n Product XYZ</th>\n",
              "      <th>Do you require\\n additional working \\ncapital or loan to \\ngrow your business?</th>\n",
              "      <th>Do you think \\nProduct XYZ can \\nhelp your business\\n to grow faster?</th>\n",
              "      <th>How much more \\ngrowth (in %) Product\\n XYZ can add to\\n your business?</th>\n",
              "      <th>When would you\\n like to register \\nwith Product XYZ?</th>\n",
              "    </tr>\n",
              "  </thead>\n",
              "  <tbody>\n",
              "    <tr>\n",
              "      <th>count</th>\n",
              "      <td>6136</td>\n",
              "      <td>6136</td>\n",
              "      <td>6136</td>\n",
              "      <td>6136</td>\n",
              "      <td>6012</td>\n",
              "      <td>4955</td>\n",
              "      <td>5658</td>\n",
              "    </tr>\n",
              "    <tr>\n",
              "      <th>unique</th>\n",
              "      <td>19</td>\n",
              "      <td>28</td>\n",
              "      <td>2</td>\n",
              "      <td>2</td>\n",
              "      <td>2</td>\n",
              "      <td>6</td>\n",
              "      <td>4</td>\n",
              "    </tr>\n",
              "    <tr>\n",
              "      <th>top</th>\n",
              "      <td>Pune</td>\n",
              "      <td>Pharmaceutical</td>\n",
              "      <td>Yes</td>\n",
              "      <td>Yes</td>\n",
              "      <td>Yes</td>\n",
              "      <td>No Impact</td>\n",
              "      <td>No, Would not like to register</td>\n",
              "    </tr>\n",
              "    <tr>\n",
              "      <th>freq</th>\n",
              "      <td>1499</td>\n",
              "      <td>1596</td>\n",
              "      <td>6113</td>\n",
              "      <td>3663</td>\n",
              "      <td>3368</td>\n",
              "      <td>2218</td>\n",
              "      <td>1899</td>\n",
              "    </tr>\n",
              "  </tbody>\n",
              "</table>\n",
              "</div>"
            ],
            "text/plain": [
              "        City  ... When would you\\n like to register \\nwith Product XYZ?\n",
              "count   6136  ...                                               5658   \n",
              "unique    19  ...                                                  4   \n",
              "top     Pune  ...                     No, Would not like to register   \n",
              "freq    1499  ...                                               1899   \n",
              "\n",
              "[4 rows x 7 columns]"
            ]
          },
          "metadata": {
            "tags": []
          },
          "execution_count": 3
        }
      ]
    },
    {
      "cell_type": "code",
      "metadata": {
        "id": "i4S_a18SsRPA"
      },
      "source": [
        "data=data.drop(['City', 'Product Category '],axis=1)\n"
      ],
      "execution_count": 4,
      "outputs": []
    },
    {
      "cell_type": "code",
      "metadata": {
        "colab": {
          "base_uri": "https://localhost:8080/"
        },
        "id": "Bxf5IcFNsRTy",
        "outputId": "d9c11d96-0b78-44f3-a6a2-2706234d4e89"
      },
      "source": [
        "data.isnull().sum()"
      ],
      "execution_count": 5,
      "outputs": [
        {
          "output_type": "execute_result",
          "data": {
            "text/plain": [
              "Have you\\n understood \\n Product XYZ                                                 0\n",
              "Do you require\\n additional working \\ncapital or loan to \\ngrow your business?       0\n",
              "Do you think \\nProduct XYZ can \\nhelp your business\\n to grow faster?              124\n",
              "How much more \\ngrowth (in %) Product\\n XYZ can add to\\n your business?           1181\n",
              "When would you\\n like to register \\nwith Product XYZ?                              478\n",
              "dtype: int64"
            ]
          },
          "metadata": {
            "tags": []
          },
          "execution_count": 5
        }
      ]
    },
    {
      "cell_type": "code",
      "metadata": {
        "id": "MN3sity2sRXT"
      },
      "source": [
        "mod1=data['Do you think \\nProduct XYZ can \\nhelp your business\\n to grow faster?'].mode()\n",
        "mod=mod1[0]\n",
        "data['Do you think \\nProduct XYZ can \\nhelp your business\\n to grow faster?'].fillna(mod,inplace=True)"
      ],
      "execution_count": 6,
      "outputs": []
    },
    {
      "cell_type": "code",
      "metadata": {
        "colab": {
          "base_uri": "https://localhost:8080/"
        },
        "id": "h6Eu9XK8veQZ",
        "outputId": "e56181f7-10fb-4383-99b4-60d0f72ce1b4"
      },
      "source": [
        "data.isnull().sum()"
      ],
      "execution_count": 7,
      "outputs": [
        {
          "output_type": "execute_result",
          "data": {
            "text/plain": [
              "Have you\\n understood \\n Product XYZ                                                 0\n",
              "Do you require\\n additional working \\ncapital or loan to \\ngrow your business?       0\n",
              "Do you think \\nProduct XYZ can \\nhelp your business\\n to grow faster?                0\n",
              "How much more \\ngrowth (in %) Product\\n XYZ can add to\\n your business?           1181\n",
              "When would you\\n like to register \\nwith Product XYZ?                              478\n",
              "dtype: int64"
            ]
          },
          "metadata": {
            "tags": []
          },
          "execution_count": 7
        }
      ]
    },
    {
      "cell_type": "code",
      "metadata": {
        "id": "83x95L-wveSc"
      },
      "source": [
        "data=data.dropna()"
      ],
      "execution_count": 8,
      "outputs": []
    },
    {
      "cell_type": "code",
      "metadata": {
        "colab": {
          "base_uri": "https://localhost:8080/"
        },
        "id": "MMkuaFsuveVm",
        "outputId": "b2519fb0-576a-4b53-b3a6-d2f23cad2cc2"
      },
      "source": [
        "data.isnull().sum()"
      ],
      "execution_count": 9,
      "outputs": [
        {
          "output_type": "execute_result",
          "data": {
            "text/plain": [
              "Have you\\n understood \\n Product XYZ                                              0\n",
              "Do you require\\n additional working \\ncapital or loan to \\ngrow your business?    0\n",
              "Do you think \\nProduct XYZ can \\nhelp your business\\n to grow faster?             0\n",
              "How much more \\ngrowth (in %) Product\\n XYZ can add to\\n your business?           0\n",
              "When would you\\n like to register \\nwith Product XYZ?                             0\n",
              "dtype: int64"
            ]
          },
          "metadata": {
            "tags": []
          },
          "execution_count": 9
        }
      ]
    },
    {
      "cell_type": "code",
      "metadata": {
        "id": "jgJqP-pJxjKJ"
      },
      "source": [
        "Understand_product=pd.get_dummies(data['Have you\\n understood \\n Product XYZ'],drop_first=True)\n",
        "Loan=pd.get_dummies(data['Do you require\\n additional working \\ncapital or loan to \\ngrow your business?'],drop_first=True)\n",
        "grow_faster=pd.get_dummies(data['Do you think \\nProduct XYZ can \\nhelp your business\\n to grow faster?'],drop_first=True)\n",
        "Business_growth=pd.get_dummies(data['How much more \\ngrowth (in %) Product\\n XYZ can add to\\n your business?'],drop_first=True)"
      ],
      "execution_count": 10,
      "outputs": []
    },
    {
      "cell_type": "code",
      "metadata": {
        "id": "PeW9HKVn10GI"
      },
      "source": [
        "data_new=pd.concat([Understand_product,Loan,grow_faster,Business_growth,data['When would you\\n like to register \\nwith Product XYZ?']],axis='columns')"
      ],
      "execution_count": 11,
      "outputs": []
    },
    {
      "cell_type": "code",
      "metadata": {
        "colab": {
          "base_uri": "https://localhost:8080/",
          "height": 195
        },
        "id": "sC3avCD82IMX",
        "outputId": "19c2edc9-d97a-447a-b731-d11e427af609"
      },
      "source": [
        "data_new.head()"
      ],
      "execution_count": 12,
      "outputs": [
        {
          "output_type": "execute_result",
          "data": {
            "text/html": [
              "<div>\n",
              "<style scoped>\n",
              "    .dataframe tbody tr th:only-of-type {\n",
              "        vertical-align: middle;\n",
              "    }\n",
              "\n",
              "    .dataframe tbody tr th {\n",
              "        vertical-align: top;\n",
              "    }\n",
              "\n",
              "    .dataframe thead th {\n",
              "        text-align: right;\n",
              "    }\n",
              "</style>\n",
              "<table border=\"1\" class=\"dataframe\">\n",
              "  <thead>\n",
              "    <tr style=\"text-align: right;\">\n",
              "      <th></th>\n",
              "      <th>Yes</th>\n",
              "      <th>Yes</th>\n",
              "      <th>Yes</th>\n",
              "      <th>0.2</th>\n",
              "      <th>0.3</th>\n",
              "      <th>0.4</th>\n",
              "      <th>40% or more</th>\n",
              "      <th>No Impact</th>\n",
              "      <th>When would you\\n like to register \\nwith Product XYZ?</th>\n",
              "    </tr>\n",
              "  </thead>\n",
              "  <tbody>\n",
              "    <tr>\n",
              "      <th>0</th>\n",
              "      <td>1</td>\n",
              "      <td>1</td>\n",
              "      <td>1</td>\n",
              "      <td>0</td>\n",
              "      <td>0</td>\n",
              "      <td>0</td>\n",
              "      <td>0</td>\n",
              "      <td>0</td>\n",
              "      <td>Within three months</td>\n",
              "    </tr>\n",
              "    <tr>\n",
              "      <th>1</th>\n",
              "      <td>1</td>\n",
              "      <td>1</td>\n",
              "      <td>0</td>\n",
              "      <td>0</td>\n",
              "      <td>0</td>\n",
              "      <td>0</td>\n",
              "      <td>0</td>\n",
              "      <td>0</td>\n",
              "      <td>More than 3 months</td>\n",
              "    </tr>\n",
              "    <tr>\n",
              "      <th>3</th>\n",
              "      <td>1</td>\n",
              "      <td>1</td>\n",
              "      <td>1</td>\n",
              "      <td>0</td>\n",
              "      <td>0</td>\n",
              "      <td>0</td>\n",
              "      <td>0</td>\n",
              "      <td>0</td>\n",
              "      <td>Within one month</td>\n",
              "    </tr>\n",
              "    <tr>\n",
              "      <th>5</th>\n",
              "      <td>1</td>\n",
              "      <td>1</td>\n",
              "      <td>1</td>\n",
              "      <td>0</td>\n",
              "      <td>0</td>\n",
              "      <td>0</td>\n",
              "      <td>0</td>\n",
              "      <td>0</td>\n",
              "      <td>Within three months</td>\n",
              "    </tr>\n",
              "    <tr>\n",
              "      <th>6</th>\n",
              "      <td>1</td>\n",
              "      <td>0</td>\n",
              "      <td>0</td>\n",
              "      <td>0</td>\n",
              "      <td>0</td>\n",
              "      <td>0</td>\n",
              "      <td>0</td>\n",
              "      <td>1</td>\n",
              "      <td>Within three months</td>\n",
              "    </tr>\n",
              "  </tbody>\n",
              "</table>\n",
              "</div>"
            ],
            "text/plain": [
              "   Yes  Yes  ...  No Impact  When would you\\n like to register \\nwith Product XYZ?\n",
              "0    1    1  ...          0                                Within three months    \n",
              "1    1    1  ...          0                                 More than 3 months    \n",
              "3    1    1  ...          0                                   Within one month    \n",
              "5    1    1  ...          0                                Within three months    \n",
              "6    1    0  ...          1                                Within three months    \n",
              "\n",
              "[5 rows x 9 columns]"
            ]
          },
          "metadata": {
            "tags": []
          },
          "execution_count": 12
        }
      ]
    },
    {
      "cell_type": "code",
      "metadata": {
        "id": "pnlvcuXMygR2"
      },
      "source": [
        "x=data_new.drop(['When would you\\n like to register \\nwith Product XYZ?'],axis=1)\n",
        "y=data[\"When would you\\n like to register \\nwith Product XYZ?\"]"
      ],
      "execution_count": 13,
      "outputs": []
    },
    {
      "cell_type": "code",
      "metadata": {
        "id": "NpSKbhJ66cHU"
      },
      "source": [
        "from sklearn.model_selection import train_test_split\n",
        "x_train, x_test, y_train, y_test = train_test_split(x,y,test_size=0.25)"
      ],
      "execution_count": 14,
      "outputs": []
    },
    {
      "cell_type": "code",
      "metadata": {
        "id": "r5HDA9606cKW"
      },
      "source": [
        "from sklearn.model_selection import GridSearchCV\n",
        "from sklearn import svm"
      ],
      "execution_count": 15,
      "outputs": []
    },
    {
      "cell_type": "code",
      "metadata": {
        "colab": {
          "base_uri": "https://localhost:8080/"
        },
        "id": "_MrZp1yo6c2c",
        "outputId": "ff2c8a55-e316-49b6-9a94-fb729d15756f"
      },
      "source": [
        "model_new_svm=GridSearchCV(svm.SVC(gamma='auto'),{'C':[1,10,20,30,40,50],'kernel':['rbf','linear']},cv=5,return_train_score=False)\n",
        "model_new_svm.fit(x_train,y_train)\n",
        "model_new_svm.cv_results_"
      ],
      "execution_count": 16,
      "outputs": [
        {
          "output_type": "execute_result",
          "data": {
            "text/plain": [
              "{'mean_fit_time': array([0.23788776, 0.09651723, 0.2437006 , 0.11541038, 0.24694424,\n",
              "        0.11829729, 0.25086269, 0.1258729 , 0.25648985, 0.13587275,\n",
              "        0.26189799, 0.14228001]),\n",
              " 'mean_score_time': array([0.05693474, 0.02153506, 0.05291495, 0.02169681, 0.04954395,\n",
              "        0.02103705, 0.05079031, 0.02198524, 0.0498332 , 0.02071352,\n",
              "        0.04950709, 0.02104392]),\n",
              " 'mean_test_score': array([0.60304422, 0.59325865, 0.60440698, 0.5957043 , 0.60631063,\n",
              "        0.5957043 , 0.60603889, 0.5957043 , 0.60603889, 0.5957043 ,\n",
              "        0.60603889, 0.5957043 ]),\n",
              " 'param_C': masked_array(data=[1, 1, 10, 10, 20, 20, 30, 30, 40, 40, 50, 50],\n",
              "              mask=[False, False, False, False, False, False, False, False,\n",
              "                    False, False, False, False],\n",
              "        fill_value='?',\n",
              "             dtype=object),\n",
              " 'param_kernel': masked_array(data=['rbf', 'linear', 'rbf', 'linear', 'rbf', 'linear',\n",
              "                    'rbf', 'linear', 'rbf', 'linear', 'rbf', 'linear'],\n",
              "              mask=[False, False, False, False, False, False, False, False,\n",
              "                    False, False, False, False],\n",
              "        fill_value='?',\n",
              "             dtype=object),\n",
              " 'params': [{'C': 1, 'kernel': 'rbf'},\n",
              "  {'C': 1, 'kernel': 'linear'},\n",
              "  {'C': 10, 'kernel': 'rbf'},\n",
              "  {'C': 10, 'kernel': 'linear'},\n",
              "  {'C': 20, 'kernel': 'rbf'},\n",
              "  {'C': 20, 'kernel': 'linear'},\n",
              "  {'C': 30, 'kernel': 'rbf'},\n",
              "  {'C': 30, 'kernel': 'linear'},\n",
              "  {'C': 40, 'kernel': 'rbf'},\n",
              "  {'C': 40, 'kernel': 'linear'},\n",
              "  {'C': 50, 'kernel': 'rbf'},\n",
              "  {'C': 50, 'kernel': 'linear'}],\n",
              " 'rank_test_score': array([ 6, 12,  5,  7,  1,  7,  2,  7,  2,  7,  2,  7], dtype=int32),\n",
              " 'split0_test_score': array([0.60597826, 0.5923913 , 0.60733696, 0.59782609, 0.60869565,\n",
              "        0.59782609, 0.60733696, 0.59782609, 0.60733696, 0.59782609,\n",
              "        0.60733696, 0.59782609]),\n",
              " 'split1_test_score': array([0.59918478, 0.59103261, 0.59103261, 0.59103261, 0.59375   ,\n",
              "        0.59103261, 0.59375   , 0.59103261, 0.59375   , 0.59103261,\n",
              "        0.59375   , 0.59103261]),\n",
              " 'split2_test_score': array([0.60733696, 0.59103261, 0.60597826, 0.59782609, 0.60597826,\n",
              "        0.59782609, 0.60597826, 0.59782609, 0.60597826, 0.59782609,\n",
              "        0.60597826, 0.59782609]),\n",
              " 'split3_test_score': array([0.5877551 , 0.5877551 , 0.60544218, 0.5877551 , 0.60816327,\n",
              "        0.5877551 , 0.60816327, 0.5877551 , 0.60816327, 0.5877551 ,\n",
              "        0.60816327, 0.5877551 ]),\n",
              " 'split4_test_score': array([0.61496599, 0.60408163, 0.6122449 , 0.60408163, 0.61496599,\n",
              "        0.60408163, 0.61496599, 0.60408163, 0.61496599, 0.60408163,\n",
              "        0.61496599, 0.60408163]),\n",
              " 'std_fit_time': array([0.00935452, 0.00469865, 0.00744042, 0.0094791 , 0.00362835,\n",
              "        0.00234868, 0.00629411, 0.00389665, 0.00583398, 0.00827585,\n",
              "        0.00638413, 0.00663177]),\n",
              " 'std_score_time': array([0.00482767, 0.00086685, 0.00521224, 0.00177335, 0.00049609,\n",
              "        0.00018074, 0.00134691, 0.00164392, 0.00043709, 0.00022375,\n",
              "        0.00037622, 0.0004559 ]),\n",
              " 'std_test_score': array([0.0091413 , 0.00562297, 0.00710538, 0.00573059, 0.0069558 ,\n",
              "        0.00573059, 0.00688348, 0.00573059, 0.00688348, 0.00573059,\n",
              "        0.00688348, 0.00573059])}"
            ]
          },
          "metadata": {
            "tags": []
          },
          "execution_count": 16
        }
      ]
    },
    {
      "cell_type": "code",
      "metadata": {
        "colab": {
          "base_uri": "https://localhost:8080/",
          "height": 402
        },
        "id": "nDgTxbHY6c5S",
        "outputId": "1e817960-5c0a-44ac-cec1-b122f9e89446"
      },
      "source": [
        "df=pd.DataFrame(model_new_svm.cv_results_)\n",
        "tabel=df[['params','mean_test_score']]\n",
        "tabel"
      ],
      "execution_count": 17,
      "outputs": [
        {
          "output_type": "execute_result",
          "data": {
            "text/html": [
              "<div>\n",
              "<style scoped>\n",
              "    .dataframe tbody tr th:only-of-type {\n",
              "        vertical-align: middle;\n",
              "    }\n",
              "\n",
              "    .dataframe tbody tr th {\n",
              "        vertical-align: top;\n",
              "    }\n",
              "\n",
              "    .dataframe thead th {\n",
              "        text-align: right;\n",
              "    }\n",
              "</style>\n",
              "<table border=\"1\" class=\"dataframe\">\n",
              "  <thead>\n",
              "    <tr style=\"text-align: right;\">\n",
              "      <th></th>\n",
              "      <th>params</th>\n",
              "      <th>mean_test_score</th>\n",
              "    </tr>\n",
              "  </thead>\n",
              "  <tbody>\n",
              "    <tr>\n",
              "      <th>0</th>\n",
              "      <td>{'C': 1, 'kernel': 'rbf'}</td>\n",
              "      <td>0.603044</td>\n",
              "    </tr>\n",
              "    <tr>\n",
              "      <th>1</th>\n",
              "      <td>{'C': 1, 'kernel': 'linear'}</td>\n",
              "      <td>0.593259</td>\n",
              "    </tr>\n",
              "    <tr>\n",
              "      <th>2</th>\n",
              "      <td>{'C': 10, 'kernel': 'rbf'}</td>\n",
              "      <td>0.604407</td>\n",
              "    </tr>\n",
              "    <tr>\n",
              "      <th>3</th>\n",
              "      <td>{'C': 10, 'kernel': 'linear'}</td>\n",
              "      <td>0.595704</td>\n",
              "    </tr>\n",
              "    <tr>\n",
              "      <th>4</th>\n",
              "      <td>{'C': 20, 'kernel': 'rbf'}</td>\n",
              "      <td>0.606311</td>\n",
              "    </tr>\n",
              "    <tr>\n",
              "      <th>5</th>\n",
              "      <td>{'C': 20, 'kernel': 'linear'}</td>\n",
              "      <td>0.595704</td>\n",
              "    </tr>\n",
              "    <tr>\n",
              "      <th>6</th>\n",
              "      <td>{'C': 30, 'kernel': 'rbf'}</td>\n",
              "      <td>0.606039</td>\n",
              "    </tr>\n",
              "    <tr>\n",
              "      <th>7</th>\n",
              "      <td>{'C': 30, 'kernel': 'linear'}</td>\n",
              "      <td>0.595704</td>\n",
              "    </tr>\n",
              "    <tr>\n",
              "      <th>8</th>\n",
              "      <td>{'C': 40, 'kernel': 'rbf'}</td>\n",
              "      <td>0.606039</td>\n",
              "    </tr>\n",
              "    <tr>\n",
              "      <th>9</th>\n",
              "      <td>{'C': 40, 'kernel': 'linear'}</td>\n",
              "      <td>0.595704</td>\n",
              "    </tr>\n",
              "    <tr>\n",
              "      <th>10</th>\n",
              "      <td>{'C': 50, 'kernel': 'rbf'}</td>\n",
              "      <td>0.606039</td>\n",
              "    </tr>\n",
              "    <tr>\n",
              "      <th>11</th>\n",
              "      <td>{'C': 50, 'kernel': 'linear'}</td>\n",
              "      <td>0.595704</td>\n",
              "    </tr>\n",
              "  </tbody>\n",
              "</table>\n",
              "</div>"
            ],
            "text/plain": [
              "                           params  mean_test_score\n",
              "0       {'C': 1, 'kernel': 'rbf'}         0.603044\n",
              "1    {'C': 1, 'kernel': 'linear'}         0.593259\n",
              "2      {'C': 10, 'kernel': 'rbf'}         0.604407\n",
              "3   {'C': 10, 'kernel': 'linear'}         0.595704\n",
              "4      {'C': 20, 'kernel': 'rbf'}         0.606311\n",
              "5   {'C': 20, 'kernel': 'linear'}         0.595704\n",
              "6      {'C': 30, 'kernel': 'rbf'}         0.606039\n",
              "7   {'C': 30, 'kernel': 'linear'}         0.595704\n",
              "8      {'C': 40, 'kernel': 'rbf'}         0.606039\n",
              "9   {'C': 40, 'kernel': 'linear'}         0.595704\n",
              "10     {'C': 50, 'kernel': 'rbf'}         0.606039\n",
              "11  {'C': 50, 'kernel': 'linear'}         0.595704"
            ]
          },
          "metadata": {
            "tags": []
          },
          "execution_count": 17
        }
      ]
    },
    {
      "cell_type": "code",
      "metadata": {
        "colab": {
          "base_uri": "https://localhost:8080/"
        },
        "id": "O15Ruczm7Ac5",
        "outputId": "a58bcd78-1c73-45fe-99b7-446edc2c506e"
      },
      "source": [
        "model_final=svm.SVC(kernel='rbf',C=1,gamma='auto')\n",
        "model_final.fit(x_train,y_train)"
      ],
      "execution_count": 18,
      "outputs": [
        {
          "output_type": "execute_result",
          "data": {
            "text/plain": [
              "SVC(C=1, break_ties=False, cache_size=200, class_weight=None, coef0=0.0,\n",
              "    decision_function_shape='ovr', degree=3, gamma='auto', kernel='rbf',\n",
              "    max_iter=-1, probability=False, random_state=None, shrinking=True,\n",
              "    tol=0.001, verbose=False)"
            ]
          },
          "metadata": {
            "tags": []
          },
          "execution_count": 18
        }
      ]
    },
    {
      "cell_type": "code",
      "metadata": {
        "id": "FOzTxYzh7WFL"
      },
      "source": [
        "y_pred=model_final.predict(x_test)"
      ],
      "execution_count": 19,
      "outputs": []
    },
    {
      "cell_type": "code",
      "metadata": {
        "colab": {
          "base_uri": "https://localhost:8080/"
        },
        "id": "-zM-kH_u7dtQ",
        "outputId": "e45df91b-3067-48fe-830f-eb717f97d510"
      },
      "source": [
        "\n",
        "from sklearn.metrics import confusion_matrix\n",
        "cm=confusion_matrix(y_test,y_pred)\n",
        "cm"
      ],
      "execution_count": 20,
      "outputs": [
        {
          "output_type": "execute_result",
          "data": {
            "text/plain": [
              "array([[ 26,  11,   4, 138],\n",
              "       [  6, 398,   3,  17],\n",
              "       [  3,   3,  16, 201],\n",
              "       [ 16,  66,   8, 311]])"
            ]
          },
          "metadata": {
            "tags": []
          },
          "execution_count": 20
        }
      ]
    },
    {
      "cell_type": "code",
      "metadata": {
        "colab": {
          "base_uri": "https://localhost:8080/",
          "height": 282
        },
        "id": "hjGinN1h83kQ",
        "outputId": "2303068e-9132-4013-f4b1-dc5f29351132"
      },
      "source": [
        "sns.heatmap(cm,annot=True)"
      ],
      "execution_count": 21,
      "outputs": [
        {
          "output_type": "execute_result",
          "data": {
            "text/plain": [
              "<matplotlib.axes._subplots.AxesSubplot at 0x7f16f0e65350>"
            ]
          },
          "metadata": {
            "tags": []
          },
          "execution_count": 21
        },
        {
          "output_type": "display_data",
          "data": {
            "image/png": "[encoded data removed]",
            "text/plain": [
              "<Figure size 432x288 with 2 Axes>"
            ]
          },
          "metadata": {
            "tags": [],
            "needs_background": "light"
          }
        }
      ]
    },
    {
      "cell_type": "code",
      "metadata": {
        "colab": {
          "base_uri": "https://localhost:8080/"
        },
        "id": "GNBfi5dx7kQU",
        "outputId": "68036b83-3237-4348-b9fc-dc02533dcc05"
      },
      "source": [
        "from sklearn.metrics import classification_report\n",
        "print(classification_report(y_test,y_pred))"
      ],
      "execution_count": 22,
      "outputs": [
        {
          "output_type": "stream",
          "text": [
            "                                precision    recall  f1-score   support\n",
            "\n",
            "            More than 3 months       0.51      0.15      0.23       179\n",
            "No, Would not like to register       0.83      0.94      0.88       424\n",
            "              Within one month       0.52      0.07      0.13       223\n",
            "           Within three months       0.47      0.78      0.58       401\n",
            "\n",
            "                      accuracy                           0.61      1227\n",
            "                     macro avg       0.58      0.48      0.45      1227\n",
            "                  weighted avg       0.61      0.61      0.55      1227\n",
            "\n"
          ],
          "name": "stdout"
        }
      ]
    },
    {
      "cell_type": "code",
      "metadata": {
        "id": "FMXA5vNu7kZ1"
      },
      "source": [
        ""
      ],
      "execution_count": 22,
      "outputs": []
    },
    {
      "cell_type": "code",
      "metadata": {
        "id": "O5QyJFN3uMZE"
      },
      "source": [
        ""
      ],
      "execution_count": 22,
      "outputs": []
    },
    {
      "cell_type": "code",
      "metadata": {
        "id": "9aFf-Cpc7kbh"
      },
      "source": [
        ""
      ],
      "execution_count": 22,
      "outputs": []
    },
    {
      "cell_type": "code",
      "metadata": {
        "id": "03rY2T3L7kfT"
      },
      "source": [
        ""
      ],
      "execution_count": 22,
      "outputs": []
    },
    {
      "cell_type": "code",
      "metadata": {
        "id": "1J2mX_u47dv7"
      },
      "source": [
        ""
      ],
      "execution_count": 22,
      "outputs": []
    }
  ]
}